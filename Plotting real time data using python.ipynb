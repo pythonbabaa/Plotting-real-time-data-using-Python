# 📊 Real-Time CPU Usage Plotter

This project visualizes real-time CPU usage using Matplotlib. It is a simple yet effective demonstration of creating a live graph in Python.

---

## 📝 Features
- **Real-Time Updates:** Continuously monitors CPU usage and updates the graph.
- **Interactive Plotting:** Uses `matplotlib`'s interactive mode for a smooth and dynamic display.
- **Customizable View:** The graph dynamically adjusts to display recent data points.

---

## 🚀 How It Works
1. **Setup**:
   - Configures Matplotlib for interactive plotting with `animation.html` set to `jshtml`.
   - Creates a figure and axis for plotting.

2. **Real-Time Loop**:
   - Continuously collects CPU usage data using `psutil`.
   - Appends the data to the graph and updates it in real time.
   - Dynamically adjusts the x-axis to show the last 50 data points.

---

## 📂 Requirements
Make sure you have the following Python packages installed:
- `matplotlib`
- `psutil`
- `time` (built-in)

Install missing dependencies using:
```bash
pip install matplotlib psutil
import matplotlib.pyplot as plt
import psutil
import time

# Configure Matplotlib for interactive plotting
plt.rcParams['animation.html'] = 'jshtml'
fig = plt.figure()
ax = fig.add_subplot(111)
fig.show()

i = 0
x, y = [], []

# Infinite loop to plot real-time CPU usage
while True:
    x.append(i)
    y.append(psutil.cpu_percent())

    ax.plot(x, y, color='b')

    fig.canvas.draw()
    ax.set_xlim(left=(i - 50), right=(i + 50))

    time.sleep(0.1)
    i += 1
git clone https://github.com/yourusername/repo-name.git
cd repo-name
python your_script_name.py

Copy and paste the entire block into your `README.md` file for a professional presentation.
