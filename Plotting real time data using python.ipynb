{
 "cells": [
  {
   "cell_type": "code",
   "execution_count": null,
   "id": "149cb2cb",
   "metadata": {},
   "outputs": [],
   "source": [
    "import time\n",
    "import psutil # it provides cpu using percentage|\n",
    "import matplotlib.pyplot as plt\n",
    "\n",
    "# Both ! and % allow you to run shell commands from a Jupyter notebook."
   ]
  },
  {
   "cell_type": "code",
   "execution_count": null,
   "id": "dfb3b668",
   "metadata": {},
   "outputs": [],
   "source": [
    "%matplotlib notebook \n",
    "\n",
    "# It stands for \"Run Commands\" not \"Run configure\"\n",
    "plt.rcParams['animation.html'] = 'jshtml'\n"
   ]
  },
  {
   "cell_type": "code",
   "execution_count": null,
   "id": "c307822d",
   "metadata": {},
   "outputs": [],
   "source": [
    "fig = plt.figure()\n",
    "ax = fig.add_subplot(111)\n",
    "fig.show()"
   ]
  },
  {
   "cell_type": "code",
   "execution_count": null,
   "id": "dc5b3b03",
   "metadata": {},
   "outputs": [],
   "source": [
    "psutil.cpu_percent()"
   ]
  },
  {
   "cell_type": "code",
   "execution_count": null,
   "id": "e0acf095",
   "metadata": {},
   "outputs": [],
   "source": [
    "i = 0\n",
    "x, y = [],  []\n",
    "\n",
    "\n",
    "# We can generate an infinite loop intentionally using while True. \n",
    "# In this case, the loop will run indefinitely until the process is stopped by external intervention (CTRL + C)\n",
    "# or when a break statement is found \n",
    "\n",
    "while True:\n",
    "    x.append(i)\n",
    "    y.append(psutil.cpu_percent())\n",
    "    \n",
    "    ax.plot(x,y, color = 'b')\n",
    "    \n",
    "    fig.canvas.draw()\n",
    "    ax.set_xlim(left=(i-50), right=(i+50))\n",
    "    \n",
    "    time.sleep(0.1)\n",
    "    i+=1"
   ]
  },
  {
   "cell_type": "code",
   "execution_count": null,
   "id": "0e527cd4",
   "metadata": {},
   "outputs": [],
   "source": [
    "plt.close()"
   ]
  }
 ],
 "metadata": {
  "kernelspec": {
   "display_name": "Python 3",
   "language": "python",
   "name": "python3"
  },
  "language_info": {
   "codemirror_mode": {
    "name": "ipython",
    "version": 3
   },
   "file_extension": ".py",
   "mimetype": "text/x-python",
   "name": "python",
   "nbconvert_exporter": "python",
   "pygments_lexer": "ipython3",
   "version": "3.8.8"
  }
 },
 "nbformat": 4,
 "nbformat_minor": 5
}
